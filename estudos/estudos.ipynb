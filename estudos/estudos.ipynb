{
 "cells": [
  {
   "cell_type": "code",
   "execution_count": 1,
   "metadata": {},
   "outputs": [],
   "source": [
    "# Aqui nesse notebook, vou colocar alguns pequenos trechos de código pra usar quando for preciso."
   ]
  },
  {
   "cell_type": "code",
   "execution_count": 3,
   "metadata": {},
   "outputs": [
    {
     "name": "stdout",
     "output_type": "stream",
     "text": [
      "https://valautentikus.estaleiro.serpro.gov.br/autentikus-authn/api/v1/jwks\n"
     ]
    }
   ],
   "source": [
    "# Exemplo de uso de variáveis de ambiente\n",
    "import os\n",
    "\n",
    "url_do_authentikus = os.getenv('VCDOC_JWKSADDR')\n",
    "print(url_do_authentikus)"
   ]
  }
 ],
 "metadata": {
  "kernelspec": {
   "display_name": "Python 3.10.6 ('dkn')",
   "language": "python",
   "name": "python3"
  },
  "language_info": {
   "codemirror_mode": {
    "name": "ipython",
    "version": 3
   },
   "file_extension": ".py",
   "mimetype": "text/x-python",
   "name": "python",
   "nbconvert_exporter": "python",
   "pygments_lexer": "ipython3",
   "version": "3.10.6"
  },
  "orig_nbformat": 4,
  "vscode": {
   "interpreter": {
    "hash": "7821e52d5a32a2e71d7f2d8e65cd5fcf3bd0c6d4ffb0930c4670f65f2c1949b7"
   }
  }
 },
 "nbformat": 4,
 "nbformat_minor": 2
}
